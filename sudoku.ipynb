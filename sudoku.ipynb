{
 "cells": [
  {
   "cell_type": "markdown",
   "metadata": {
    "deletable": true,
    "editable": true
   },
   "source": [
    "# Sudoku Solver V0.1\n",
    "\n",
    "This is my implemetation* of Peter Norvig's \"[Solving Every Sudoku Puzzle](http://www.norvig.com/sudoku.html)\".\n",
    "\n",
    "*And by implementation, I mean I copy and pasted Mr.Norvig's code and stepped through it line by line till I had some semblance of an understanding of the algorithm.\n",
    "\n",
    "### Motivation\n",
    "\n",
    "60% learning exercise, 40% taking revenge on years of failed and partially completed 4+ star Sudoku puzzles. Let's get to it!"
   ]
  },
  {
   "cell_type": "code",
   "execution_count": 1,
   "metadata": {
    "collapsed": false,
    "deletable": true,
    "editable": true
   },
   "outputs": [
    {
     "data": {
      "text/html": [
       "<script>requirejs.config({paths: { 'plotly': ['https://cdn.plot.ly/plotly-latest.min']},});if(!window.Plotly) {{require(['plotly'],function(plotly) {window.Plotly=plotly;});}}</script>"
      ],
      "text/vnd.plotly.v1+html": [
       "<script>requirejs.config({paths: { 'plotly': ['https://cdn.plot.ly/plotly-latest.min']},});if(!window.Plotly) {{require(['plotly'],function(plotly) {window.Plotly=plotly;});}}</script>"
      ]
     },
     "metadata": {},
     "output_type": "display_data"
    }
   ],
   "source": [
    "import pandas as pd\n",
    "import plotly as py\n",
    "import time\n",
    "import plotly.graph_objs as go\n",
    "\n",
    "py.offline.init_notebook_mode(connected=True)\n",
    "\n",
    "#Defining global variables used to index puzzle\n",
    "digs   = '123456789'             #possible digits in a 9x9 sudoku puzzle\n",
    "rows     = 'ABCDEFGHI'           #alphabet labels for each of 9 rows\n",
    "cols     = digs                  #numeric labels for each of 9 columns\n",
    "\n",
    "\n",
    "sqrs = [r+c for r in rows for c in cols]\n",
    "row_units = [[r + c for c in cols]for r in rows]\n",
    "col_units = [[r + c for r in rows]for c in cols]\n",
    "\n",
    "rsubs = ['ABC','DEF','GHI']\n",
    "csubs = ['123','456','789']\n",
    "\n",
    "box_units = []\n",
    "for rsub in rsubs:\n",
    "    for csub in csubs:\n",
    "        box_units.append([r+c for r in rsub for c in csub])\n",
    "        \n",
    "\n",
    "unitlist = (row_units+col_units+box_units)\n",
    "\n",
    "unitdict = {}\n",
    "for sq in sqrs:\n",
    "    for u in unitlist:\n",
    "        if sq in u:\n",
    "            if sq not in unitdict:\n",
    "                unitdict[sq]=[]\n",
    "            unitdict[sq].append(u)\n",
    "\n",
    "peers = {}\n",
    "for s in sqrs:\n",
    "    unitset = set()\n",
    "    for unit in unitdict[s]:\n",
    "        for square in unit:\n",
    "            if square != s:\n",
    "                unitset.add(square)\n",
    "    peers[s] = unitset\n"
   ]
  },
  {
   "cell_type": "markdown",
   "metadata": {
    "deletable": true,
    "editable": true
   },
   "source": [
    "### The Easy Part\n",
    "\n",
    "#### Read in and validate the puzzle\n",
    "\n",
    "Okay, now let's read in the puzzle. I'm going to go with the simplest solution and take a list of 81 characters (81 squares in a 9x9 puzzle) as an input; entered row-wise, using periods or dashes to represent unknown (blank) cells.\n"
   ]
  },
  {
   "cell_type": "code",
   "execution_count": 2,
   "metadata": {
    "collapsed": true,
    "deletable": true,
    "editable": true
   },
   "outputs": [],
   "source": [
    "#Here are some examples to play with (I'll save you the typing):\n",
    "examples = ['4.....8.5.3..........7......2.....6.....8.4......1.......6.3.7.5..2.....1.4......', #easy peasy\n",
    "            '53..7....6..195....98....6.8...6...34..8.3..17...2...6.6....28....419..5....8..79', #easy peasy\n",
    "            '.....6....59.....82....8....45........3........6..3.54...325..6..................'] #super hard!!! will take a while to comput\n",
    "\n",
    "def read_puzzle(raw_puzzle):\n",
    "    \n",
    "    #input(\"Enter the Sudoku Puzzle you'd like solved as a string of 81 characters\\n(Use periods (.) or dashes (-) to denote unknown values):\")\n",
    "    puzzle = [c for c in raw_puzzle if c in digs or c in '.-']\n",
    "    assert len(puzzle) == 81, \"Your entry is not 81 characters long! Please try again!\"\n",
    "    return puzzle\n",
    "\n",
    "def gen_dict(puzzle):\n",
    "    puzzledict = dict(zip(sqrs,puzzle))\n",
    "    print(\"Here's your input puzzle:\\n\")\n",
    "    display_as_table(puzzledict)\n",
    "    return puzzledict"
   ]
  },
  {
   "cell_type": "markdown",
   "metadata": {
    "deletable": true,
    "editable": true
   },
   "source": [
    "Now that we have a Sudoku puzzle to solve, let's figure out a way to visualize it.\n",
    "\n",
    "Peter's highly functional (and super \"[Pythonic](https://stackoverflow.com/questions/25011078/what-does-pythonic-mean)\") code utilizes a simple 'display' function as defined below to print the puzzle as plain text:\n"
   ]
  },
  {
   "cell_type": "code",
   "execution_count": 3,
   "metadata": {
    "collapsed": true,
    "deletable": true,
    "editable": true
   },
   "outputs": [],
   "source": [
    "def display(p):\n",
    "    width = 1+max(len(p[s]) for s in sqrs)\n",
    "    divider = '+'.join(['-'*(width*3)]*3)\n",
    "    for r in rows:\n",
    "        print(''.join(p[r+c].center(width)+('|' if c in '36' else '') for c in cols))\n",
    "        if r in 'CF': \n",
    "            print(divider)\n",
    "    return"
   ]
  },
  {
   "cell_type": "markdown",
   "metadata": {
    "deletable": true,
    "editable": true
   },
   "source": [
    "Here comes my one and only new contribution to Mr.Norvig's approach, and it's purely aesthetic. \n",
    "\n",
    "In the spirit of learning, exploring yet another Python library, and of course, prettification, here is my entirely un-Pythonic and verbose display function using [Plotly](https://plot.ly/d3-js-for-python-and-pandas-charts/)'s Python library:"
   ]
  },
  {
   "cell_type": "code",
   "execution_count": 4,
   "metadata": {
    "collapsed": true,
    "deletable": true,
    "editable": true
   },
   "outputs": [],
   "source": [
    "def display_as_table(p):\n",
    "    df = pd.DataFrame(columns=list(cols), index = list(rows))\n",
    "    \n",
    "    for r in rows:\n",
    "        for c in cols:\n",
    "            df.loc[r,c] = p[r+c]\n",
    "    \n",
    "    vals = [df[c] for c in list(cols)]\n",
    "    vals.insert(0,pd.Series(list(rows)))\n",
    "    h = 30\n",
    "    \n",
    "    indexcolor = '#ffffff'\n",
    "    linecolor = '#ffffff'\n",
    "    darkcellcolor = '#ffe0b3'\n",
    "    lightcellcolor = '#fff5e6'\n",
    "    dld = [darkcellcolor]*3+[lightcellcolor]*3+[darkcellcolor]*3\n",
    "    ldl = [lightcellcolor]*3+[darkcellcolor]*3+[lightcellcolor]*3\n",
    "    \n",
    "    cellcolors = ([indexcolor]*9,dld,dld,dld,ldl,ldl,ldl,dld,dld,dld)\n",
    "    \n",
    "    trace = go.Table(\n",
    "        columnwidth = h,\n",
    "        header=dict(values = ['']+(list(cols)),\n",
    "                    fill = dict(color=indexcolor),\n",
    "                    line = dict(color=linecolor),\n",
    "                    align = ['center'] * (len(list(cols))+1),\n",
    "                    height = h),\n",
    "        cells=dict(values = vals,\n",
    "                   fill = dict(color=cellcolors),\n",
    "                   line = dict(color=linecolor),\n",
    "                   align = ['center']*(len(list(rows))+1),\n",
    "                   height = h))\n",
    "\n",
    "    layout = dict(autosize=False,\n",
    "                  width=400, \n",
    "                  height=400, \n",
    "                  margin=go.Margin(l=0,\n",
    "                                    r=0,\n",
    "                                    b=0,\n",
    "                                    t=0,\n",
    "                                    pad=0\n",
    "                 ))\n",
    "    \n",
    "    data = [trace]\n",
    "    fig= dict(data=data, layout=layout)\n",
    "    \n",
    "    py.offline.iplot(fig)\n",
    "\n",
    "    return\n",
    "    "
   ]
  },
  {
   "cell_type": "markdown",
   "metadata": {
    "deletable": true,
    "editable": true
   },
   "source": [
    "### The Brain-hurty Part\n",
    "\n",
    "The meat 'n potatoes - this will take some explaining. This was especially difficult for me to grasp as someone with no experience with recursive functions.\n",
    "\n",
    "We start by defining the function 'possible_values' which returns a dictionary in the form {Cell, all possible values in Cell}. It starts with a dictionary with all digits (1-9) mapped to every cell, then it calls on the 'assign' function:"
   ]
  },
  {
   "cell_type": "code",
   "execution_count": 1,
   "metadata": {
    "collapsed": true
   },
   "outputs": [],
   "source": [
    "def possible_values(puzzle):\n",
    "    values = dict((s, digs) for s in sqrs)\n",
    "    for s,d in gen_dict(puzzle).items():\n",
    "        if d in digs and not assign(values, s, d):\n",
    "            return False\n",
    "    return values"
   ]
  },
  {
   "cell_type": "markdown",
   "metadata": {},
   "source": [
    "The 'assign' function is called for each cell in the puzzle....\n",
    "\n",
    "### To be continued"
   ]
  },
  {
   "cell_type": "code",
   "execution_count": 9,
   "metadata": {
    "collapsed": true,
    "deletable": true,
    "editable": true
   },
   "outputs": [],
   "source": [
    "def assign(values, s, d):\n",
    "    trial_values = values[s].replace(d, '')\n",
    "    if all(eliminate(values, s, d2) for d2 in trial_values):\n",
    "        return values\n",
    "    else:\n",
    "        return False\n",
    "    \n",
    "\n",
    "def eliminate(values, s, d):\n",
    "\n",
    "    if d not in values[s]:\n",
    "        return values \n",
    "    values[s] = values[s].replace(d,'')\n",
    "    \n",
    "    if len(values[s]) == 0:\n",
    "        return False\n",
    "    elif len(values[s]) == 1:\n",
    "        d2 = values[s]\n",
    "        if not all(eliminate(values, s2, d2) for s2 in peers[s]):\n",
    "            return False\n",
    "    \n",
    "    for u in unitdict[s]:\n",
    "        dplaces = [s for s in u if d in values[s]]\n",
    "        if len(dplaces) == 0:\n",
    "            return False\n",
    "        elif len(dplaces) == 1:\n",
    "            if not assign(values, dplaces[0], d):\n",
    "                return False\n",
    "    return values\n",
    "\n",
    "def search(values):\n",
    "    if values is False:\n",
    "        return False \n",
    "    if all(len(values[s]) == 1 for s in sqrs): \n",
    "        return values \n",
    "    \n",
    "    n,s = min((len(values[s]), s) for s in sqrs if len(values[s]) > 1)\n",
    "    return some(search(assign(values.copy(), s, d)) for d in values[s])\n",
    "\n",
    "def some(seq):\n",
    "    for e in seq:\n",
    "        if e: return e\n",
    "    return False\n",
    "\n",
    "def solve(puzzle):\n",
    "    start = time.time()\n",
    "    solved_puzzle = search(possible_values(puzzle))\n",
    "    end = time.time()\n",
    "    print(\"Here's the solved puzzle; it took %d seconds!\\n\" % (end-start))\n",
    "    return display_as_table(solved_puzzle)"
   ]
  },
  {
   "cell_type": "code",
   "execution_count": 11,
   "metadata": {
    "collapsed": false,
    "deletable": true,
    "editable": true
   },
   "outputs": [
    {
     "name": "stdout",
     "output_type": "stream",
     "text": [
      "Here's your input puzzle:\n",
      "\n"
     ]
    },
    {
     "data": {
      "application/vnd.plotly.v1+json": {
       "data": [
        {
         "cells": {
          "align": [
           "center",
           "center",
           "center",
           "center",
           "center",
           "center",
           "center",
           "center",
           "center",
           "center"
          ],
          "fill": {
           "color": [
            [
             "#ffffff",
             "#ffffff",
             "#ffffff",
             "#ffffff",
             "#ffffff",
             "#ffffff",
             "#ffffff",
             "#ffffff",
             "#ffffff"
            ],
            [
             "#ffe0b3",
             "#ffe0b3",
             "#ffe0b3",
             "#fff5e6",
             "#fff5e6",
             "#fff5e6",
             "#ffe0b3",
             "#ffe0b3",
             "#ffe0b3"
            ],
            [
             "#ffe0b3",
             "#ffe0b3",
             "#ffe0b3",
             "#fff5e6",
             "#fff5e6",
             "#fff5e6",
             "#ffe0b3",
             "#ffe0b3",
             "#ffe0b3"
            ],
            [
             "#ffe0b3",
             "#ffe0b3",
             "#ffe0b3",
             "#fff5e6",
             "#fff5e6",
             "#fff5e6",
             "#ffe0b3",
             "#ffe0b3",
             "#ffe0b3"
            ],
            [
             "#fff5e6",
             "#fff5e6",
             "#fff5e6",
             "#ffe0b3",
             "#ffe0b3",
             "#ffe0b3",
             "#fff5e6",
             "#fff5e6",
             "#fff5e6"
            ],
            [
             "#fff5e6",
             "#fff5e6",
             "#fff5e6",
             "#ffe0b3",
             "#ffe0b3",
             "#ffe0b3",
             "#fff5e6",
             "#fff5e6",
             "#fff5e6"
            ],
            [
             "#fff5e6",
             "#fff5e6",
             "#fff5e6",
             "#ffe0b3",
             "#ffe0b3",
             "#ffe0b3",
             "#fff5e6",
             "#fff5e6",
             "#fff5e6"
            ],
            [
             "#ffe0b3",
             "#ffe0b3",
             "#ffe0b3",
             "#fff5e6",
             "#fff5e6",
             "#fff5e6",
             "#ffe0b3",
             "#ffe0b3",
             "#ffe0b3"
            ],
            [
             "#ffe0b3",
             "#ffe0b3",
             "#ffe0b3",
             "#fff5e6",
             "#fff5e6",
             "#fff5e6",
             "#ffe0b3",
             "#ffe0b3",
             "#ffe0b3"
            ],
            [
             "#ffe0b3",
             "#ffe0b3",
             "#ffe0b3",
             "#fff5e6",
             "#fff5e6",
             "#fff5e6",
             "#ffe0b3",
             "#ffe0b3",
             "#ffe0b3"
            ]
           ]
          },
          "height": 30,
          "line": {
           "color": "#ffffff"
          },
          "values": [
           [
            "A",
            "B",
            "C",
            "D",
            "E",
            "F",
            "G",
            "H",
            "I"
           ],
           [
            ".",
            ".",
            "2",
            ".",
            ".",
            ".",
            ".",
            ".",
            "."
           ],
           [
            ".",
            "5",
            ".",
            "4",
            ".",
            ".",
            ".",
            ".",
            "."
           ],
           [
            ".",
            "9",
            ".",
            "5",
            "3",
            "6",
            ".",
            ".",
            "."
           ],
           [
            ".",
            ".",
            ".",
            ".",
            ".",
            ".",
            "3",
            ".",
            "."
           ],
           [
            ".",
            ".",
            ".",
            ".",
            ".",
            ".",
            "2",
            ".",
            "."
           ],
           [
            "6",
            ".",
            "8",
            ".",
            ".",
            "3",
            "5",
            ".",
            "."
           ],
           [
            ".",
            ".",
            ".",
            ".",
            ".",
            ".",
            ".",
            ".",
            "."
           ],
           [
            ".",
            ".",
            ".",
            ".",
            ".",
            "5",
            ".",
            ".",
            "."
           ],
           [
            ".",
            "8",
            ".",
            ".",
            ".",
            "4",
            "6",
            ".",
            "."
           ]
          ]
         },
         "columnwidth": 30,
         "header": {
          "align": [
           "center",
           "center",
           "center",
           "center",
           "center",
           "center",
           "center",
           "center",
           "center",
           "center"
          ],
          "fill": {
           "color": "#ffffff"
          },
          "height": 30,
          "line": {
           "color": "#ffffff"
          },
          "values": [
           "",
           "1",
           "2",
           "3",
           "4",
           "5",
           "6",
           "7",
           "8",
           "9"
          ]
         },
         "type": "table"
        }
       ],
       "layout": {
        "autosize": false,
        "height": 400,
        "margin": {
         "b": 0,
         "l": 0,
         "pad": 0,
         "r": 0,
         "t": 0
        },
        "width": 400
       }
      },
      "text/html": [
       "<div id=\"9109aa09-0308-476a-b7be-35e12bb4dbd3\" style=\"height: 400px; width: 400px;\" class=\"plotly-graph-div\"></div><script type=\"text/javascript\">require([\"plotly\"], function(Plotly) { window.PLOTLYENV=window.PLOTLYENV || {};window.PLOTLYENV.BASE_URL=\"https://plot.ly\";Plotly.newPlot(\"9109aa09-0308-476a-b7be-35e12bb4dbd3\", [{\"header\": {\"height\": 30, \"line\": {\"color\": \"#ffffff\"}, \"align\": [\"center\", \"center\", \"center\", \"center\", \"center\", \"center\", \"center\", \"center\", \"center\", \"center\"], \"fill\": {\"color\": \"#ffffff\"}, \"values\": [\"\", \"1\", \"2\", \"3\", \"4\", \"5\", \"6\", \"7\", \"8\", \"9\"]}, \"columnwidth\": 30, \"type\": \"table\", \"cells\": {\"height\": 30, \"line\": {\"color\": \"#ffffff\"}, \"align\": [\"center\", \"center\", \"center\", \"center\", \"center\", \"center\", \"center\", \"center\", \"center\", \"center\"], \"fill\": {\"color\": [[\"#ffffff\", \"#ffffff\", \"#ffffff\", \"#ffffff\", \"#ffffff\", \"#ffffff\", \"#ffffff\", \"#ffffff\", \"#ffffff\"], [\"#ffe0b3\", \"#ffe0b3\", \"#ffe0b3\", \"#fff5e6\", \"#fff5e6\", \"#fff5e6\", \"#ffe0b3\", \"#ffe0b3\", \"#ffe0b3\"], [\"#ffe0b3\", \"#ffe0b3\", \"#ffe0b3\", \"#fff5e6\", \"#fff5e6\", \"#fff5e6\", \"#ffe0b3\", \"#ffe0b3\", \"#ffe0b3\"], [\"#ffe0b3\", \"#ffe0b3\", \"#ffe0b3\", \"#fff5e6\", \"#fff5e6\", \"#fff5e6\", \"#ffe0b3\", \"#ffe0b3\", \"#ffe0b3\"], [\"#fff5e6\", \"#fff5e6\", \"#fff5e6\", \"#ffe0b3\", \"#ffe0b3\", \"#ffe0b3\", \"#fff5e6\", \"#fff5e6\", \"#fff5e6\"], [\"#fff5e6\", \"#fff5e6\", \"#fff5e6\", \"#ffe0b3\", \"#ffe0b3\", \"#ffe0b3\", \"#fff5e6\", \"#fff5e6\", \"#fff5e6\"], [\"#fff5e6\", \"#fff5e6\", \"#fff5e6\", \"#ffe0b3\", \"#ffe0b3\", \"#ffe0b3\", \"#fff5e6\", \"#fff5e6\", \"#fff5e6\"], [\"#ffe0b3\", \"#ffe0b3\", \"#ffe0b3\", \"#fff5e6\", \"#fff5e6\", \"#fff5e6\", \"#ffe0b3\", \"#ffe0b3\", \"#ffe0b3\"], [\"#ffe0b3\", \"#ffe0b3\", \"#ffe0b3\", \"#fff5e6\", \"#fff5e6\", \"#fff5e6\", \"#ffe0b3\", \"#ffe0b3\", \"#ffe0b3\"], [\"#ffe0b3\", \"#ffe0b3\", \"#ffe0b3\", \"#fff5e6\", \"#fff5e6\", \"#fff5e6\", \"#ffe0b3\", \"#ffe0b3\", \"#ffe0b3\"]]}, \"values\": [[\"A\", \"B\", \"C\", \"D\", \"E\", \"F\", \"G\", \"H\", \"I\"], [\".\", \".\", \"2\", \".\", \".\", \".\", \".\", \".\", \".\"], [\".\", \"5\", \".\", \"4\", \".\", \".\", \".\", \".\", \".\"], [\".\", \"9\", \".\", \"5\", \"3\", \"6\", \".\", \".\", \".\"], [\".\", \".\", \".\", \".\", \".\", \".\", \"3\", \".\", \".\"], [\".\", \".\", \".\", \".\", \".\", \".\", \"2\", \".\", \".\"], [\"6\", \".\", \"8\", \".\", \".\", \"3\", \"5\", \".\", \".\"], [\".\", \".\", \".\", \".\", \".\", \".\", \".\", \".\", \".\"], [\".\", \".\", \".\", \".\", \".\", \"5\", \".\", \".\", \".\"], [\".\", \"8\", \".\", \".\", \".\", \"4\", \"6\", \".\", \".\"]]}}], {\"height\": 400, \"width\": 400, \"autosize\": false, \"margin\": {\"r\": 0, \"t\": 0, \"l\": 0, \"b\": 0, \"pad\": 0}}, {\"linkText\": \"Export to plot.ly\", \"showLink\": true})});</script>"
      ],
      "text/vnd.plotly.v1+html": [
       "<div id=\"9109aa09-0308-476a-b7be-35e12bb4dbd3\" style=\"height: 400px; width: 400px;\" class=\"plotly-graph-div\"></div><script type=\"text/javascript\">require([\"plotly\"], function(Plotly) { window.PLOTLYENV=window.PLOTLYENV || {};window.PLOTLYENV.BASE_URL=\"https://plot.ly\";Plotly.newPlot(\"9109aa09-0308-476a-b7be-35e12bb4dbd3\", [{\"header\": {\"height\": 30, \"line\": {\"color\": \"#ffffff\"}, \"align\": [\"center\", \"center\", \"center\", \"center\", \"center\", \"center\", \"center\", \"center\", \"center\", \"center\"], \"fill\": {\"color\": \"#ffffff\"}, \"values\": [\"\", \"1\", \"2\", \"3\", \"4\", \"5\", \"6\", \"7\", \"8\", \"9\"]}, \"columnwidth\": 30, \"type\": \"table\", \"cells\": {\"height\": 30, \"line\": {\"color\": \"#ffffff\"}, \"align\": [\"center\", \"center\", \"center\", \"center\", \"center\", \"center\", \"center\", \"center\", \"center\", \"center\"], \"fill\": {\"color\": [[\"#ffffff\", \"#ffffff\", \"#ffffff\", \"#ffffff\", \"#ffffff\", \"#ffffff\", \"#ffffff\", \"#ffffff\", \"#ffffff\"], [\"#ffe0b3\", \"#ffe0b3\", \"#ffe0b3\", \"#fff5e6\", \"#fff5e6\", \"#fff5e6\", \"#ffe0b3\", \"#ffe0b3\", \"#ffe0b3\"], [\"#ffe0b3\", \"#ffe0b3\", \"#ffe0b3\", \"#fff5e6\", \"#fff5e6\", \"#fff5e6\", \"#ffe0b3\", \"#ffe0b3\", \"#ffe0b3\"], [\"#ffe0b3\", \"#ffe0b3\", \"#ffe0b3\", \"#fff5e6\", \"#fff5e6\", \"#fff5e6\", \"#ffe0b3\", \"#ffe0b3\", \"#ffe0b3\"], [\"#fff5e6\", \"#fff5e6\", \"#fff5e6\", \"#ffe0b3\", \"#ffe0b3\", \"#ffe0b3\", \"#fff5e6\", \"#fff5e6\", \"#fff5e6\"], [\"#fff5e6\", \"#fff5e6\", \"#fff5e6\", \"#ffe0b3\", \"#ffe0b3\", \"#ffe0b3\", \"#fff5e6\", \"#fff5e6\", \"#fff5e6\"], [\"#fff5e6\", \"#fff5e6\", \"#fff5e6\", \"#ffe0b3\", \"#ffe0b3\", \"#ffe0b3\", \"#fff5e6\", \"#fff5e6\", \"#fff5e6\"], [\"#ffe0b3\", \"#ffe0b3\", \"#ffe0b3\", \"#fff5e6\", \"#fff5e6\", \"#fff5e6\", \"#ffe0b3\", \"#ffe0b3\", \"#ffe0b3\"], [\"#ffe0b3\", \"#ffe0b3\", \"#ffe0b3\", \"#fff5e6\", \"#fff5e6\", \"#fff5e6\", \"#ffe0b3\", \"#ffe0b3\", \"#ffe0b3\"], [\"#ffe0b3\", \"#ffe0b3\", \"#ffe0b3\", \"#fff5e6\", \"#fff5e6\", \"#fff5e6\", \"#ffe0b3\", \"#ffe0b3\", \"#ffe0b3\"]]}, \"values\": [[\"A\", \"B\", \"C\", \"D\", \"E\", \"F\", \"G\", \"H\", \"I\"], [\".\", \".\", \"2\", \".\", \".\", \".\", \".\", \".\", \".\"], [\".\", \"5\", \".\", \"4\", \".\", \".\", \".\", \".\", \".\"], [\".\", \"9\", \".\", \"5\", \"3\", \"6\", \".\", \".\", \".\"], [\".\", \".\", \".\", \".\", \".\", \".\", \"3\", \".\", \".\"], [\".\", \".\", \".\", \".\", \".\", \".\", \"2\", \".\", \".\"], [\"6\", \".\", \"8\", \".\", \".\", \"3\", \"5\", \".\", \".\"], [\".\", \".\", \".\", \".\", \".\", \".\", \".\", \".\", \".\"], [\".\", \".\", \".\", \".\", \".\", \"5\", \".\", \".\", \".\"], [\".\", \"8\", \".\", \".\", \".\", \"4\", \"6\", \".\", \".\"]]}}], {\"height\": 400, \"width\": 400, \"autosize\": false, \"margin\": {\"r\": 0, \"t\": 0, \"l\": 0, \"b\": 0, \"pad\": 0}}, {\"linkText\": \"Export to plot.ly\", \"showLink\": true})});</script>"
      ]
     },
     "metadata": {},
     "output_type": "display_data"
    },
    {
     "name": "stdout",
     "output_type": "stream",
     "text": [
      "Here's the solved puzzle; it took 177 seconds!\n",
      "\n"
     ]
    },
    {
     "data": {
      "application/vnd.plotly.v1+json": {
       "data": [
        {
         "cells": {
          "align": [
           "center",
           "center",
           "center",
           "center",
           "center",
           "center",
           "center",
           "center",
           "center",
           "center"
          ],
          "fill": {
           "color": [
            [
             "#ffffff",
             "#ffffff",
             "#ffffff",
             "#ffffff",
             "#ffffff",
             "#ffffff",
             "#ffffff",
             "#ffffff",
             "#ffffff"
            ],
            [
             "#ffe0b3",
             "#ffe0b3",
             "#ffe0b3",
             "#fff5e6",
             "#fff5e6",
             "#fff5e6",
             "#ffe0b3",
             "#ffe0b3",
             "#ffe0b3"
            ],
            [
             "#ffe0b3",
             "#ffe0b3",
             "#ffe0b3",
             "#fff5e6",
             "#fff5e6",
             "#fff5e6",
             "#ffe0b3",
             "#ffe0b3",
             "#ffe0b3"
            ],
            [
             "#ffe0b3",
             "#ffe0b3",
             "#ffe0b3",
             "#fff5e6",
             "#fff5e6",
             "#fff5e6",
             "#ffe0b3",
             "#ffe0b3",
             "#ffe0b3"
            ],
            [
             "#fff5e6",
             "#fff5e6",
             "#fff5e6",
             "#ffe0b3",
             "#ffe0b3",
             "#ffe0b3",
             "#fff5e6",
             "#fff5e6",
             "#fff5e6"
            ],
            [
             "#fff5e6",
             "#fff5e6",
             "#fff5e6",
             "#ffe0b3",
             "#ffe0b3",
             "#ffe0b3",
             "#fff5e6",
             "#fff5e6",
             "#fff5e6"
            ],
            [
             "#fff5e6",
             "#fff5e6",
             "#fff5e6",
             "#ffe0b3",
             "#ffe0b3",
             "#ffe0b3",
             "#fff5e6",
             "#fff5e6",
             "#fff5e6"
            ],
            [
             "#ffe0b3",
             "#ffe0b3",
             "#ffe0b3",
             "#fff5e6",
             "#fff5e6",
             "#fff5e6",
             "#ffe0b3",
             "#ffe0b3",
             "#ffe0b3"
            ],
            [
             "#ffe0b3",
             "#ffe0b3",
             "#ffe0b3",
             "#fff5e6",
             "#fff5e6",
             "#fff5e6",
             "#ffe0b3",
             "#ffe0b3",
             "#ffe0b3"
            ],
            [
             "#ffe0b3",
             "#ffe0b3",
             "#ffe0b3",
             "#fff5e6",
             "#fff5e6",
             "#fff5e6",
             "#ffe0b3",
             "#ffe0b3",
             "#ffe0b3"
            ]
           ]
          },
          "height": 30,
          "line": {
           "color": "#ffffff"
          },
          "values": [
           [
            "A",
            "B",
            "C",
            "D",
            "E",
            "F",
            "G",
            "H",
            "I"
           ],
           [
            "4",
            "6",
            "2",
            "8",
            "7",
            "9",
            "1",
            "3",
            "5"
           ],
           [
            "3",
            "5",
            "7",
            "4",
            "1",
            "2",
            "9",
            "6",
            "8"
           ],
           [
            "8",
            "9",
            "1",
            "5",
            "3",
            "6",
            "4",
            "2",
            "7"
           ],
           [
            "7",
            "1",
            "4",
            "2",
            "5",
            "8",
            "3",
            "9",
            "6"
           ],
           [
            "9",
            "3",
            "5",
            "1",
            "6",
            "7",
            "2",
            "8",
            "4"
           ],
           [
            "6",
            "2",
            "8",
            "9",
            "4",
            "3",
            "5",
            "7",
            "1"
           ],
           [
            "2",
            "4",
            "6",
            "3",
            "8",
            "1",
            "7",
            "5",
            "9"
           ],
           [
            "1",
            "7",
            "9",
            "6",
            "2",
            "5",
            "8",
            "4",
            "3"
           ],
           [
            "5",
            "8",
            "3",
            "7",
            "9",
            "4",
            "6",
            "1",
            "2"
           ]
          ]
         },
         "columnwidth": 30,
         "header": {
          "align": [
           "center",
           "center",
           "center",
           "center",
           "center",
           "center",
           "center",
           "center",
           "center",
           "center"
          ],
          "fill": {
           "color": "#ffffff"
          },
          "height": 30,
          "line": {
           "color": "#ffffff"
          },
          "values": [
           "",
           "1",
           "2",
           "3",
           "4",
           "5",
           "6",
           "7",
           "8",
           "9"
          ]
         },
         "type": "table"
        }
       ],
       "layout": {
        "autosize": false,
        "height": 400,
        "margin": {
         "b": 0,
         "l": 0,
         "pad": 0,
         "r": 0,
         "t": 0
        },
        "width": 400
       }
      },
      "text/html": [
       "<div id=\"755bf669-a34b-440a-82c0-facae03eb2a8\" style=\"height: 400px; width: 400px;\" class=\"plotly-graph-div\"></div><script type=\"text/javascript\">require([\"plotly\"], function(Plotly) { window.PLOTLYENV=window.PLOTLYENV || {};window.PLOTLYENV.BASE_URL=\"https://plot.ly\";Plotly.newPlot(\"755bf669-a34b-440a-82c0-facae03eb2a8\", [{\"header\": {\"height\": 30, \"line\": {\"color\": \"#ffffff\"}, \"align\": [\"center\", \"center\", \"center\", \"center\", \"center\", \"center\", \"center\", \"center\", \"center\", \"center\"], \"fill\": {\"color\": \"#ffffff\"}, \"values\": [\"\", \"1\", \"2\", \"3\", \"4\", \"5\", \"6\", \"7\", \"8\", \"9\"]}, \"columnwidth\": 30, \"type\": \"table\", \"cells\": {\"height\": 30, \"line\": {\"color\": \"#ffffff\"}, \"align\": [\"center\", \"center\", \"center\", \"center\", \"center\", \"center\", \"center\", \"center\", \"center\", \"center\"], \"fill\": {\"color\": [[\"#ffffff\", \"#ffffff\", \"#ffffff\", \"#ffffff\", \"#ffffff\", \"#ffffff\", \"#ffffff\", \"#ffffff\", \"#ffffff\"], [\"#ffe0b3\", \"#ffe0b3\", \"#ffe0b3\", \"#fff5e6\", \"#fff5e6\", \"#fff5e6\", \"#ffe0b3\", \"#ffe0b3\", \"#ffe0b3\"], [\"#ffe0b3\", \"#ffe0b3\", \"#ffe0b3\", \"#fff5e6\", \"#fff5e6\", \"#fff5e6\", \"#ffe0b3\", \"#ffe0b3\", \"#ffe0b3\"], [\"#ffe0b3\", \"#ffe0b3\", \"#ffe0b3\", \"#fff5e6\", \"#fff5e6\", \"#fff5e6\", \"#ffe0b3\", \"#ffe0b3\", \"#ffe0b3\"], [\"#fff5e6\", \"#fff5e6\", \"#fff5e6\", \"#ffe0b3\", \"#ffe0b3\", \"#ffe0b3\", \"#fff5e6\", \"#fff5e6\", \"#fff5e6\"], [\"#fff5e6\", \"#fff5e6\", \"#fff5e6\", \"#ffe0b3\", \"#ffe0b3\", \"#ffe0b3\", \"#fff5e6\", \"#fff5e6\", \"#fff5e6\"], [\"#fff5e6\", \"#fff5e6\", \"#fff5e6\", \"#ffe0b3\", \"#ffe0b3\", \"#ffe0b3\", \"#fff5e6\", \"#fff5e6\", \"#fff5e6\"], [\"#ffe0b3\", \"#ffe0b3\", \"#ffe0b3\", \"#fff5e6\", \"#fff5e6\", \"#fff5e6\", \"#ffe0b3\", \"#ffe0b3\", \"#ffe0b3\"], [\"#ffe0b3\", \"#ffe0b3\", \"#ffe0b3\", \"#fff5e6\", \"#fff5e6\", \"#fff5e6\", \"#ffe0b3\", \"#ffe0b3\", \"#ffe0b3\"], [\"#ffe0b3\", \"#ffe0b3\", \"#ffe0b3\", \"#fff5e6\", \"#fff5e6\", \"#fff5e6\", \"#ffe0b3\", \"#ffe0b3\", \"#ffe0b3\"]]}, \"values\": [[\"A\", \"B\", \"C\", \"D\", \"E\", \"F\", \"G\", \"H\", \"I\"], [\"4\", \"6\", \"2\", \"8\", \"7\", \"9\", \"1\", \"3\", \"5\"], [\"3\", \"5\", \"7\", \"4\", \"1\", \"2\", \"9\", \"6\", \"8\"], [\"8\", \"9\", \"1\", \"5\", \"3\", \"6\", \"4\", \"2\", \"7\"], [\"7\", \"1\", \"4\", \"2\", \"5\", \"8\", \"3\", \"9\", \"6\"], [\"9\", \"3\", \"5\", \"1\", \"6\", \"7\", \"2\", \"8\", \"4\"], [\"6\", \"2\", \"8\", \"9\", \"4\", \"3\", \"5\", \"7\", \"1\"], [\"2\", \"4\", \"6\", \"3\", \"8\", \"1\", \"7\", \"5\", \"9\"], [\"1\", \"7\", \"9\", \"6\", \"2\", \"5\", \"8\", \"4\", \"3\"], [\"5\", \"8\", \"3\", \"7\", \"9\", \"4\", \"6\", \"1\", \"2\"]]}}], {\"height\": 400, \"width\": 400, \"autosize\": false, \"margin\": {\"r\": 0, \"t\": 0, \"l\": 0, \"b\": 0, \"pad\": 0}}, {\"linkText\": \"Export to plot.ly\", \"showLink\": true})});</script>"
      ],
      "text/vnd.plotly.v1+html": [
       "<div id=\"755bf669-a34b-440a-82c0-facae03eb2a8\" style=\"height: 400px; width: 400px;\" class=\"plotly-graph-div\"></div><script type=\"text/javascript\">require([\"plotly\"], function(Plotly) { window.PLOTLYENV=window.PLOTLYENV || {};window.PLOTLYENV.BASE_URL=\"https://plot.ly\";Plotly.newPlot(\"755bf669-a34b-440a-82c0-facae03eb2a8\", [{\"header\": {\"height\": 30, \"line\": {\"color\": \"#ffffff\"}, \"align\": [\"center\", \"center\", \"center\", \"center\", \"center\", \"center\", \"center\", \"center\", \"center\", \"center\"], \"fill\": {\"color\": \"#ffffff\"}, \"values\": [\"\", \"1\", \"2\", \"3\", \"4\", \"5\", \"6\", \"7\", \"8\", \"9\"]}, \"columnwidth\": 30, \"type\": \"table\", \"cells\": {\"height\": 30, \"line\": {\"color\": \"#ffffff\"}, \"align\": [\"center\", \"center\", \"center\", \"center\", \"center\", \"center\", \"center\", \"center\", \"center\", \"center\"], \"fill\": {\"color\": [[\"#ffffff\", \"#ffffff\", \"#ffffff\", \"#ffffff\", \"#ffffff\", \"#ffffff\", \"#ffffff\", \"#ffffff\", \"#ffffff\"], [\"#ffe0b3\", \"#ffe0b3\", \"#ffe0b3\", \"#fff5e6\", \"#fff5e6\", \"#fff5e6\", \"#ffe0b3\", \"#ffe0b3\", \"#ffe0b3\"], [\"#ffe0b3\", \"#ffe0b3\", \"#ffe0b3\", \"#fff5e6\", \"#fff5e6\", \"#fff5e6\", \"#ffe0b3\", \"#ffe0b3\", \"#ffe0b3\"], [\"#ffe0b3\", \"#ffe0b3\", \"#ffe0b3\", \"#fff5e6\", \"#fff5e6\", \"#fff5e6\", \"#ffe0b3\", \"#ffe0b3\", \"#ffe0b3\"], [\"#fff5e6\", \"#fff5e6\", \"#fff5e6\", \"#ffe0b3\", \"#ffe0b3\", \"#ffe0b3\", \"#fff5e6\", \"#fff5e6\", \"#fff5e6\"], [\"#fff5e6\", \"#fff5e6\", \"#fff5e6\", \"#ffe0b3\", \"#ffe0b3\", \"#ffe0b3\", \"#fff5e6\", \"#fff5e6\", \"#fff5e6\"], [\"#fff5e6\", \"#fff5e6\", \"#fff5e6\", \"#ffe0b3\", \"#ffe0b3\", \"#ffe0b3\", \"#fff5e6\", \"#fff5e6\", \"#fff5e6\"], [\"#ffe0b3\", \"#ffe0b3\", \"#ffe0b3\", \"#fff5e6\", \"#fff5e6\", \"#fff5e6\", \"#ffe0b3\", \"#ffe0b3\", \"#ffe0b3\"], [\"#ffe0b3\", \"#ffe0b3\", \"#ffe0b3\", \"#fff5e6\", \"#fff5e6\", \"#fff5e6\", \"#ffe0b3\", \"#ffe0b3\", \"#ffe0b3\"], [\"#ffe0b3\", \"#ffe0b3\", \"#ffe0b3\", \"#fff5e6\", \"#fff5e6\", \"#fff5e6\", \"#ffe0b3\", \"#ffe0b3\", \"#ffe0b3\"]]}, \"values\": [[\"A\", \"B\", \"C\", \"D\", \"E\", \"F\", \"G\", \"H\", \"I\"], [\"4\", \"6\", \"2\", \"8\", \"7\", \"9\", \"1\", \"3\", \"5\"], [\"3\", \"5\", \"7\", \"4\", \"1\", \"2\", \"9\", \"6\", \"8\"], [\"8\", \"9\", \"1\", \"5\", \"3\", \"6\", \"4\", \"2\", \"7\"], [\"7\", \"1\", \"4\", \"2\", \"5\", \"8\", \"3\", \"9\", \"6\"], [\"9\", \"3\", \"5\", \"1\", \"6\", \"7\", \"2\", \"8\", \"4\"], [\"6\", \"2\", \"8\", \"9\", \"4\", \"3\", \"5\", \"7\", \"1\"], [\"2\", \"4\", \"6\", \"3\", \"8\", \"1\", \"7\", \"5\", \"9\"], [\"1\", \"7\", \"9\", \"6\", \"2\", \"5\", \"8\", \"4\", \"3\"], [\"5\", \"8\", \"3\", \"7\", \"9\", \"4\", \"6\", \"1\", \"2\"]]}}], {\"height\": 400, \"width\": 400, \"autosize\": false, \"margin\": {\"r\": 0, \"t\": 0, \"l\": 0, \"b\": 0, \"pad\": 0}}, {\"linkText\": \"Export to plot.ly\", \"showLink\": true})});</script>"
      ]
     },
     "metadata": {},
     "output_type": "display_data"
    }
   ],
   "source": [
    "solve(read_puzzle(examples[2]))"
   ]
  },
  {
   "cell_type": "code",
   "execution_count": null,
   "metadata": {
    "collapsed": true,
    "deletable": true,
    "editable": true
   },
   "outputs": [],
   "source": []
  },
  {
   "cell_type": "code",
   "execution_count": null,
   "metadata": {
    "collapsed": true,
    "deletable": true,
    "editable": true
   },
   "outputs": [],
   "source": []
  },
  {
   "cell_type": "code",
   "execution_count": null,
   "metadata": {
    "collapsed": true,
    "deletable": true,
    "editable": true
   },
   "outputs": [],
   "source": []
  }
 ],
 "metadata": {
  "celltoolbar": "Raw Cell Format",
  "kernelspec": {
   "display_name": "Python 3",
   "language": "python",
   "name": "python3"
  },
  "language_info": {
   "codemirror_mode": {
    "name": "ipython",
    "version": 3
   },
   "file_extension": ".py",
   "mimetype": "text/x-python",
   "name": "python",
   "nbconvert_exporter": "python",
   "pygments_lexer": "ipython3",
   "version": "3.5.2"
  }
 },
 "nbformat": 4,
 "nbformat_minor": 2
}
