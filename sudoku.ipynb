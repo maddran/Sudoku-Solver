{
 "cells": [
  {
   "cell_type": "markdown",
   "metadata": {},
   "source": [
    "# Sudoku Solver V0.1\n",
    "\n",
    "This is my implemetation* of Peter Norvig's \"[Solving Every Sudoku Puzzle](http://www.norvig.com/sudoku.html)\".\n",
    "\n",
    "*And by implementation, I mean I copy and pasted his code and stepped through it line by line till I had some semblance of an understanding of the algorithm.\n",
    "\n",
    "### Motivation\n",
    "\n",
    "60% learning exercise, 40% taking revenge on years of failed and partially completed 4+ star Sudoku puzzles. Let's get to it!"
   ]
  },
  {
   "cell_type": "code",
   "execution_count": 24,
   "metadata": {
    "collapsed": false
   },
   "outputs": [
    {
     "data": {
      "text/html": [
       "<script>requirejs.config({paths: { 'plotly': ['https://cdn.plot.ly/plotly-latest.min']},});if(!window.Plotly) {{require(['plotly'],function(plotly) {window.Plotly=plotly;});}}</script>"
      ],
      "text/vnd.plotly.v1+html": [
       "<script>requirejs.config({paths: { 'plotly': ['https://cdn.plot.ly/plotly-latest.min']},});if(!window.Plotly) {{require(['plotly'],function(plotly) {window.Plotly=plotly;});}}</script>"
      ]
     },
     "metadata": {},
     "output_type": "display_data"
    }
   ],
   "source": [
    "import pandas as pd\n",
    "import plotly as py\n",
    "import plotly.graph_objs as go\n",
    "\n",
    "py.offline.init_notebook_mode(connected=True)\n",
    "\n",
    "#Defining global variables used to index puzzle\n",
    "digs   = '123456789'             #possible digits in a 9x9 sudoku puzzle\n",
    "rows     = 'ABCDEFGHI'           #alphabet labels for each of 9 rows\n",
    "cols     = digs                  #numeric labels for each of 9 columns\n",
    "\n",
    "\n",
    "sqrs = [r+c for r in rows for c in cols]\n",
    "row_units = [[r + c for c in cols]for r in rows]\n",
    "col_units = [[r + c for r in rows]for c in cols]\n",
    "\n",
    "rsubs = ['ABC','DEF','GHI']\n",
    "csubs = ['123','456','789']\n",
    "\n",
    "box_units = []\n",
    "for rsub in rsubs:\n",
    "    for csub in csubs:\n",
    "        box_units.append([r+c for r in rsub for c in csub])\n",
    "        \n",
    "\n",
    "unitlist = (row_units+col_units+box_units)\n",
    "\n",
    "unitdict = {}\n",
    "for sq in sqrs:\n",
    "    for u in unitlist:\n",
    "        if sq in u:\n",
    "            if sq not in unitdict:\n",
    "                unitdict[sq]=[]\n",
    "            unitdict[sq].append(u)\n",
    "\n",
    "peers = {}\n",
    "for s in sqrs:\n",
    "    unitset = set()\n",
    "    for unit in unitdict[s]:\n",
    "        for square in unit:\n",
    "            if square != s:\n",
    "                unitset.add(square)\n",
    "    peers[s] = unitset\n"
   ]
  },
  {
   "cell_type": "markdown",
   "metadata": {},
   "source": [
    "### The 'Easy' Part\n",
    "\n",
    "#### Read in and validate the puzzle\n",
    "\n",
    "Okay, now let's read in the puzzle. I'm going to go with the simplest solution and take a list of 81 characters (81 squares in a 9x9 puzzle) as an input; entered row-wise, using periods or dashes to represent unknown (blank) cells.\n"
   ]
  },
  {
   "cell_type": "code",
   "execution_count": 25,
   "metadata": {
    "collapsed": true
   },
   "outputs": [],
   "source": [
    "#Here are some examples to play with (I'll save you the typing)\n",
    "examples = ['4.....8.5.3..........7......2.....6.....8.4......1.......6.3.7.5..2.....1.4......', #easy peasy\n",
    "            '53..7....6..195....98....6.8...6...34..8.3..17...2...6.6....28....419..5....8..79', #easy peasy\n",
    "            '.....6....59.....82....8....45........3........6..3.54...325..6..................'] #super hard!!! will take a while to comput\n",
    "\n",
    "raw_puzzle = examples[0]\n",
    "\n",
    "#input(\"Enter the Sudoku Puzzle you'd like solved as a string of 81 characters\\n(Use periods (.) or dashes (-) to denote unknown values):\")\n",
    "\n",
    "puzzle = [c for c in raw_puzzle if c in digs or c in '.-']\n",
    "\n",
    "assert len(puzzle) == 81, \"Your entry is not 81 characters long! Please try again!\"\n",
    "\n",
    "puzzledict = dict(zip(sqrs,puzzle))"
   ]
  },
  {
   "cell_type": "markdown",
   "metadata": {},
   "source": [
    "Now that we have a Sudoku puzzle to solve, let's figure out a way to visualize it.\n",
    "\n",
    "Peter's highly functional (and super \"[Pythonic](https://stackoverflow.com/questions/25011078/what-does-pythonic-mean)\") code utilizes a simple 'display' function as defined below to print the puzzle as plain text:\n"
   ]
  },
  {
   "cell_type": "code",
   "execution_count": 29,
   "metadata": {
    "collapsed": true
   },
   "outputs": [],
   "source": [
    "def display(p):\n",
    "    width = 1+max(len(p[s]) for s in sqrs)\n",
    "    divider = '+'.join(['-'*(width*3)]*3)\n",
    "    for r in rows:\n",
    "        print(''.join(p[r+c].center(width)+('|' if c in '36' else '') for c in cols))\n",
    "        if r in 'CF': \n",
    "            print(divider)\n",
    "    return"
   ]
  },
  {
   "cell_type": "markdown",
   "metadata": {},
   "source": [
    "Here comes my one and only new contribution to Mr.Norvig's approach, and it's purely aesthetic. \n",
    "\n",
    "In the spirit of learning, exploring yet another Python library, and of course, prettification, here is my entirely un-Pythonic and verbose display function using [Plotly](https://plot.ly/d3-js-for-python-and-pandas-charts/)'s Python library:"
   ]
  },
  {
   "cell_type": "code",
   "execution_count": null,
   "metadata": {
    "collapsed": true
   },
   "outputs": [],
   "source": [
    "def display_as_table(p):\n",
    "    df = pd.DataFrame(columns=list(cols), index = list(rows))\n",
    "    \n",
    "    for r in rows:\n",
    "        for c in cols:\n",
    "            df.loc[r,c] = p[r+c]\n",
    "    \n",
    "    vals = [df[c] for c in list(cols)]\n",
    "    vals.insert(0,pd.Series(list(rows)))\n",
    "    h = 30\n",
    "    \n",
    "    indexcolor = '#ffffff'\n",
    "    linecolor = '#ffffff'\n",
    "    darkcellcolor = '#ffe0b3'\n",
    "    lightcellcolor = '#fff5e6'\n",
    "    dld = [darkcellcolor]*3+[lightcellcolor]*3+[darkcellcolor]*3\n",
    "    ldl = [lightcellcolor]*3+[darkcellcolor]*3+[lightcellcolor]*3\n",
    "    \n",
    "    cellcolors = ([indexcolor]*9,dld,dld,dld,ldl,ldl,ldl,dld,dld,dld)\n",
    "    \n",
    "    trace = go.Table(\n",
    "        columnwidth = h,\n",
    "        header=dict(values = ['']+(list(cols)),\n",
    "                    fill = dict(color=indexcolor),\n",
    "                    line = dict(color=linecolor),\n",
    "                    align = ['center'] * (len(list(cols))+1),\n",
    "                    height = h),\n",
    "        cells=dict(values = vals,\n",
    "                   fill = dict(color=cellcolors),\n",
    "                   line = dict(color=linecolor),\n",
    "                   align = ['center']*(len(list(rows))+1),\n",
    "                   height = h))\n",
    "\n",
    "    layout = dict(autosize=True,\n",
    "                  width=480, \n",
    "                  height=500, \n",
    "                  margin=go.Margin(l=50,\n",
    "                                    r=50,\n",
    "                                    b=50,\n",
    "                                    t=50,\n",
    "                                    pad=4\n",
    "                 ))\n",
    "    \n",
    "    data = [trace]\n",
    "    fig= dict(data=data, layout=layout)\n",
    "    \n",
    "    py.offline.iplot(fig)\n",
    "\n",
    "    return\n",
    "    "
   ]
  },
  {
   "cell_type": "markdown",
   "metadata": {},
   "source": [
    "### The 'Brain-hurty' Part\n",
    "\n"
   ]
  },
  {
   "cell_type": "code",
   "execution_count": 27,
   "metadata": {
    "collapsed": true
   },
   "outputs": [],
   "source": [
    "def possible_values(puzzle):\n",
    "    values = dict((s, digs) for s in sqrs)\n",
    "    for s,d in puzzledict.items():\n",
    "        if d in digs and not assign(values, s, d):\n",
    "            return False\n",
    "    \n",
    "    display_as_table(values)\n",
    "    return values\n",
    "\n",
    "def eliminate(values, s, d):\n",
    "\n",
    "    if d not in values[s]:\n",
    "        return values \n",
    "    values[s] = values[s].replace(d,'')\n",
    "    \n",
    "    if len(values[s]) == 0:\n",
    "        return False\n",
    "    elif len(values[s]) == 1:\n",
    "        d2 = values[s]\n",
    "        if not all(eliminate(values, s2, d2) for s2 in peers[s]):\n",
    "            return False\n",
    "    \n",
    "    for u in unitdict[s]:\n",
    "        dplaces = [s for s in u if d in values[s]]\n",
    "        if len(dplaces) == 0:\n",
    "            return False\n",
    "        elif len(dplaces) == 1:\n",
    "            if not assign(values, dplaces[0], d):\n",
    "                return False\n",
    "    return values\n",
    "\n",
    "def assign(values, s, d):\n",
    "    trial_values = values[s].replace(d, '')\n",
    "    if all(eliminate(values, s, d2) for d2 in trial_values):\n",
    "        return values\n",
    "    else:\n",
    "        return False\n",
    "\n",
    "def search(values):\n",
    "    if values is False:\n",
    "        return False \n",
    "    if all(len(values[s]) == 1 for s in sqrs): \n",
    "        return values \n",
    "    \n",
    "    n,s = min((len(values[s]), s) for s in sqrs if len(values[s]) > 1)\n",
    "    return some(search(assign(values.copy(), s, d)) for d in values[s])\n",
    "\n",
    "def some(seq):\n",
    "    for e in seq:\n",
    "        if e: return e\n",
    "    return False\n",
    "\n",
    "def solve(puzzle): \n",
    "    \n",
    "    return display_as_table(search(possible_values(puzzle)))\n",
    "\n"
   ]
  },
  {
   "cell_type": "code",
   "execution_count": 28,
   "metadata": {
    "collapsed": false
   },
   "outputs": [
    {
     "data": {
      "application/vnd.plotly.v1+json": {
       "data": [
        {
         "cells": {
          "align": [
           "center",
           "center",
           "center",
           "center",
           "center",
           "center",
           "center",
           "center",
           "center",
           "center"
          ],
          "fill": {
           "color": [
            [
             "#ffffff",
             "#ffffff",
             "#ffffff",
             "#ffffff",
             "#ffffff",
             "#ffffff",
             "#ffffff",
             "#ffffff",
             "#ffffff"
            ],
            [
             "#ffe0b3",
             "#ffe0b3",
             "#ffe0b3",
             "#fff5e6",
             "#fff5e6",
             "#fff5e6",
             "#ffe0b3",
             "#ffe0b3",
             "#ffe0b3"
            ],
            [
             "#ffe0b3",
             "#ffe0b3",
             "#ffe0b3",
             "#fff5e6",
             "#fff5e6",
             "#fff5e6",
             "#ffe0b3",
             "#ffe0b3",
             "#ffe0b3"
            ],
            [
             "#ffe0b3",
             "#ffe0b3",
             "#ffe0b3",
             "#fff5e6",
             "#fff5e6",
             "#fff5e6",
             "#ffe0b3",
             "#ffe0b3",
             "#ffe0b3"
            ],
            [
             "#fff5e6",
             "#fff5e6",
             "#fff5e6",
             "#ffe0b3",
             "#ffe0b3",
             "#ffe0b3",
             "#fff5e6",
             "#fff5e6",
             "#fff5e6"
            ],
            [
             "#fff5e6",
             "#fff5e6",
             "#fff5e6",
             "#ffe0b3",
             "#ffe0b3",
             "#ffe0b3",
             "#fff5e6",
             "#fff5e6",
             "#fff5e6"
            ],
            [
             "#fff5e6",
             "#fff5e6",
             "#fff5e6",
             "#ffe0b3",
             "#ffe0b3",
             "#ffe0b3",
             "#fff5e6",
             "#fff5e6",
             "#fff5e6"
            ],
            [
             "#ffe0b3",
             "#ffe0b3",
             "#ffe0b3",
             "#fff5e6",
             "#fff5e6",
             "#fff5e6",
             "#ffe0b3",
             "#ffe0b3",
             "#ffe0b3"
            ],
            [
             "#ffe0b3",
             "#ffe0b3",
             "#ffe0b3",
             "#fff5e6",
             "#fff5e6",
             "#fff5e6",
             "#ffe0b3",
             "#ffe0b3",
             "#ffe0b3"
            ],
            [
             "#ffe0b3",
             "#ffe0b3",
             "#ffe0b3",
             "#fff5e6",
             "#fff5e6",
             "#fff5e6",
             "#ffe0b3",
             "#ffe0b3",
             "#ffe0b3"
            ]
           ]
          },
          "height": 30,
          "line": {
           "color": "#ffffff"
          },
          "values": [
           [
            "A",
            "B",
            "C",
            "D",
            "E",
            "F",
            "G",
            "H",
            "I"
           ],
           [
            "4",
            "26789",
            "2689",
            "3789",
            "3679",
            "36789",
            "289",
            "5",
            "1"
           ],
           [
            "1679",
            "3",
            "15689",
            "2",
            "15679",
            "4",
            "89",
            "6789",
            "6789"
           ],
           [
            "12679",
            "1256789",
            "125689",
            "15789",
            "15679",
            "56789",
            "289",
            "3",
            "4"
           ],
           [
            "139",
            "14589",
            "7",
            "3459",
            "359",
            "359",
            "6",
            "2",
            "589"
           ],
           [
            "2369",
            "24569",
            "234569",
            "34579",
            "8",
            "1",
            "459",
            "479",
            "579"
           ],
           [
            "269",
            "245689",
            "245689",
            "4579",
            "25679",
            "25679",
            "3",
            "1",
            "5789"
           ],
           [
            "8",
            "12679",
            "12369",
            "13579",
            "4",
            "23579",
            "1259",
            "69",
            "23569"
           ],
           [
            "1239",
            "1249",
            "12349",
            "6",
            "12359",
            "23589",
            "7",
            "489",
            "23589"
           ],
           [
            "5",
            "124679",
            "123469",
            "13789",
            "12379",
            "23789",
            "12489",
            "4689",
            "23689"
           ]
          ]
         },
         "columnwidth": 30,
         "header": {
          "align": [
           "center",
           "center",
           "center",
           "center",
           "center",
           "center",
           "center",
           "center",
           "center",
           "center"
          ],
          "fill": {
           "color": "#ffffff"
          },
          "height": 30,
          "line": {
           "color": "#ffffff"
          },
          "values": [
           "",
           "1",
           "2",
           "3",
           "4",
           "5",
           "6",
           "7",
           "8",
           "9"
          ]
         },
         "type": "table"
        }
       ],
       "layout": {
        "autosize": true,
        "height": 500,
        "margin": {
         "b": 50,
         "l": 50,
         "pad": 4,
         "r": 50,
         "t": 50
        },
        "width": 480
       }
      },
      "text/html": [
       "<div id=\"6308c934-63a7-4b1c-b3f5-e124e9761534\" style=\"height: 500px; width: 480px;\" class=\"plotly-graph-div\"></div><script type=\"text/javascript\">require([\"plotly\"], function(Plotly) { window.PLOTLYENV=window.PLOTLYENV || {};window.PLOTLYENV.BASE_URL=\"https://plot.ly\";Plotly.newPlot(\"6308c934-63a7-4b1c-b3f5-e124e9761534\", [{\"columnwidth\": 30, \"cells\": {\"line\": {\"color\": \"#ffffff\"}, \"height\": 30, \"fill\": {\"color\": [[\"#ffffff\", \"#ffffff\", \"#ffffff\", \"#ffffff\", \"#ffffff\", \"#ffffff\", \"#ffffff\", \"#ffffff\", \"#ffffff\"], [\"#ffe0b3\", \"#ffe0b3\", \"#ffe0b3\", \"#fff5e6\", \"#fff5e6\", \"#fff5e6\", \"#ffe0b3\", \"#ffe0b3\", \"#ffe0b3\"], [\"#ffe0b3\", \"#ffe0b3\", \"#ffe0b3\", \"#fff5e6\", \"#fff5e6\", \"#fff5e6\", \"#ffe0b3\", \"#ffe0b3\", \"#ffe0b3\"], [\"#ffe0b3\", \"#ffe0b3\", \"#ffe0b3\", \"#fff5e6\", \"#fff5e6\", \"#fff5e6\", \"#ffe0b3\", \"#ffe0b3\", \"#ffe0b3\"], [\"#fff5e6\", \"#fff5e6\", \"#fff5e6\", \"#ffe0b3\", \"#ffe0b3\", \"#ffe0b3\", \"#fff5e6\", \"#fff5e6\", \"#fff5e6\"], [\"#fff5e6\", \"#fff5e6\", \"#fff5e6\", \"#ffe0b3\", \"#ffe0b3\", \"#ffe0b3\", \"#fff5e6\", \"#fff5e6\", \"#fff5e6\"], [\"#fff5e6\", \"#fff5e6\", \"#fff5e6\", \"#ffe0b3\", \"#ffe0b3\", \"#ffe0b3\", \"#fff5e6\", \"#fff5e6\", \"#fff5e6\"], [\"#ffe0b3\", \"#ffe0b3\", \"#ffe0b3\", \"#fff5e6\", \"#fff5e6\", \"#fff5e6\", \"#ffe0b3\", \"#ffe0b3\", \"#ffe0b3\"], [\"#ffe0b3\", \"#ffe0b3\", \"#ffe0b3\", \"#fff5e6\", \"#fff5e6\", \"#fff5e6\", \"#ffe0b3\", \"#ffe0b3\", \"#ffe0b3\"], [\"#ffe0b3\", \"#ffe0b3\", \"#ffe0b3\", \"#fff5e6\", \"#fff5e6\", \"#fff5e6\", \"#ffe0b3\", \"#ffe0b3\", \"#ffe0b3\"]]}, \"values\": [[\"A\", \"B\", \"C\", \"D\", \"E\", \"F\", \"G\", \"H\", \"I\"], [\"4\", \"26789\", \"2689\", \"3789\", \"3679\", \"36789\", \"289\", \"5\", \"1\"], [\"1679\", \"3\", \"15689\", \"2\", \"15679\", \"4\", \"89\", \"6789\", \"6789\"], [\"12679\", \"1256789\", \"125689\", \"15789\", \"15679\", \"56789\", \"289\", \"3\", \"4\"], [\"139\", \"14589\", \"7\", \"3459\", \"359\", \"359\", \"6\", \"2\", \"589\"], [\"2369\", \"24569\", \"234569\", \"34579\", \"8\", \"1\", \"459\", \"479\", \"579\"], [\"269\", \"245689\", \"245689\", \"4579\", \"25679\", \"25679\", \"3\", \"1\", \"5789\"], [\"8\", \"12679\", \"12369\", \"13579\", \"4\", \"23579\", \"1259\", \"69\", \"23569\"], [\"1239\", \"1249\", \"12349\", \"6\", \"12359\", \"23589\", \"7\", \"489\", \"23589\"], [\"5\", \"124679\", \"123469\", \"13789\", \"12379\", \"23789\", \"12489\", \"4689\", \"23689\"]], \"align\": [\"center\", \"center\", \"center\", \"center\", \"center\", \"center\", \"center\", \"center\", \"center\", \"center\"]}, \"type\": \"table\", \"header\": {\"line\": {\"color\": \"#ffffff\"}, \"height\": 30, \"fill\": {\"color\": \"#ffffff\"}, \"values\": [\"\", \"1\", \"2\", \"3\", \"4\", \"5\", \"6\", \"7\", \"8\", \"9\"], \"align\": [\"center\", \"center\", \"center\", \"center\", \"center\", \"center\", \"center\", \"center\", \"center\", \"center\"]}}], {\"height\": 500, \"margin\": {\"pad\": 4, \"t\": 50, \"l\": 50, \"r\": 50, \"b\": 50}, \"width\": 480, \"autosize\": true}, {\"showLink\": true, \"linkText\": \"Export to plot.ly\"})});</script>"
      ],
      "text/vnd.plotly.v1+html": [
       "<div id=\"6308c934-63a7-4b1c-b3f5-e124e9761534\" style=\"height: 500px; width: 480px;\" class=\"plotly-graph-div\"></div><script type=\"text/javascript\">require([\"plotly\"], function(Plotly) { window.PLOTLYENV=window.PLOTLYENV || {};window.PLOTLYENV.BASE_URL=\"https://plot.ly\";Plotly.newPlot(\"6308c934-63a7-4b1c-b3f5-e124e9761534\", [{\"columnwidth\": 30, \"cells\": {\"line\": {\"color\": \"#ffffff\"}, \"height\": 30, \"fill\": {\"color\": [[\"#ffffff\", \"#ffffff\", \"#ffffff\", \"#ffffff\", \"#ffffff\", \"#ffffff\", \"#ffffff\", \"#ffffff\", \"#ffffff\"], [\"#ffe0b3\", \"#ffe0b3\", \"#ffe0b3\", \"#fff5e6\", \"#fff5e6\", \"#fff5e6\", \"#ffe0b3\", \"#ffe0b3\", \"#ffe0b3\"], [\"#ffe0b3\", \"#ffe0b3\", \"#ffe0b3\", \"#fff5e6\", \"#fff5e6\", \"#fff5e6\", \"#ffe0b3\", \"#ffe0b3\", \"#ffe0b3\"], [\"#ffe0b3\", \"#ffe0b3\", \"#ffe0b3\", \"#fff5e6\", \"#fff5e6\", \"#fff5e6\", \"#ffe0b3\", \"#ffe0b3\", \"#ffe0b3\"], [\"#fff5e6\", \"#fff5e6\", \"#fff5e6\", \"#ffe0b3\", \"#ffe0b3\", \"#ffe0b3\", \"#fff5e6\", \"#fff5e6\", \"#fff5e6\"], [\"#fff5e6\", \"#fff5e6\", \"#fff5e6\", \"#ffe0b3\", \"#ffe0b3\", \"#ffe0b3\", \"#fff5e6\", \"#fff5e6\", \"#fff5e6\"], [\"#fff5e6\", \"#fff5e6\", \"#fff5e6\", \"#ffe0b3\", \"#ffe0b3\", \"#ffe0b3\", \"#fff5e6\", \"#fff5e6\", \"#fff5e6\"], [\"#ffe0b3\", \"#ffe0b3\", \"#ffe0b3\", \"#fff5e6\", \"#fff5e6\", \"#fff5e6\", \"#ffe0b3\", \"#ffe0b3\", \"#ffe0b3\"], [\"#ffe0b3\", \"#ffe0b3\", \"#ffe0b3\", \"#fff5e6\", \"#fff5e6\", \"#fff5e6\", \"#ffe0b3\", \"#ffe0b3\", \"#ffe0b3\"], [\"#ffe0b3\", \"#ffe0b3\", \"#ffe0b3\", \"#fff5e6\", \"#fff5e6\", \"#fff5e6\", \"#ffe0b3\", \"#ffe0b3\", \"#ffe0b3\"]]}, \"values\": [[\"A\", \"B\", \"C\", \"D\", \"E\", \"F\", \"G\", \"H\", \"I\"], [\"4\", \"26789\", \"2689\", \"3789\", \"3679\", \"36789\", \"289\", \"5\", \"1\"], [\"1679\", \"3\", \"15689\", \"2\", \"15679\", \"4\", \"89\", \"6789\", \"6789\"], [\"12679\", \"1256789\", \"125689\", \"15789\", \"15679\", \"56789\", \"289\", \"3\", \"4\"], [\"139\", \"14589\", \"7\", \"3459\", \"359\", \"359\", \"6\", \"2\", \"589\"], [\"2369\", \"24569\", \"234569\", \"34579\", \"8\", \"1\", \"459\", \"479\", \"579\"], [\"269\", \"245689\", \"245689\", \"4579\", \"25679\", \"25679\", \"3\", \"1\", \"5789\"], [\"8\", \"12679\", \"12369\", \"13579\", \"4\", \"23579\", \"1259\", \"69\", \"23569\"], [\"1239\", \"1249\", \"12349\", \"6\", \"12359\", \"23589\", \"7\", \"489\", \"23589\"], [\"5\", \"124679\", \"123469\", \"13789\", \"12379\", \"23789\", \"12489\", \"4689\", \"23689\"]], \"align\": [\"center\", \"center\", \"center\", \"center\", \"center\", \"center\", \"center\", \"center\", \"center\", \"center\"]}, \"type\": \"table\", \"header\": {\"line\": {\"color\": \"#ffffff\"}, \"height\": 30, \"fill\": {\"color\": \"#ffffff\"}, \"values\": [\"\", \"1\", \"2\", \"3\", \"4\", \"5\", \"6\", \"7\", \"8\", \"9\"], \"align\": [\"center\", \"center\", \"center\", \"center\", \"center\", \"center\", \"center\", \"center\", \"center\", \"center\"]}}], {\"height\": 500, \"margin\": {\"pad\": 4, \"t\": 50, \"l\": 50, \"r\": 50, \"b\": 50}, \"width\": 480, \"autosize\": true}, {\"showLink\": true, \"linkText\": \"Export to plot.ly\"})});</script>"
      ]
     },
     "metadata": {},
     "output_type": "display_data"
    },
    {
     "data": {
      "application/vnd.plotly.v1+json": {
       "data": [
        {
         "cells": {
          "align": [
           "center",
           "center",
           "center",
           "center",
           "center",
           "center",
           "center",
           "center",
           "center",
           "center"
          ],
          "fill": {
           "color": [
            [
             "#ffffff",
             "#ffffff",
             "#ffffff",
             "#ffffff",
             "#ffffff",
             "#ffffff",
             "#ffffff",
             "#ffffff",
             "#ffffff"
            ],
            [
             "#ffe0b3",
             "#ffe0b3",
             "#ffe0b3",
             "#fff5e6",
             "#fff5e6",
             "#fff5e6",
             "#ffe0b3",
             "#ffe0b3",
             "#ffe0b3"
            ],
            [
             "#ffe0b3",
             "#ffe0b3",
             "#ffe0b3",
             "#fff5e6",
             "#fff5e6",
             "#fff5e6",
             "#ffe0b3",
             "#ffe0b3",
             "#ffe0b3"
            ],
            [
             "#ffe0b3",
             "#ffe0b3",
             "#ffe0b3",
             "#fff5e6",
             "#fff5e6",
             "#fff5e6",
             "#ffe0b3",
             "#ffe0b3",
             "#ffe0b3"
            ],
            [
             "#fff5e6",
             "#fff5e6",
             "#fff5e6",
             "#ffe0b3",
             "#ffe0b3",
             "#ffe0b3",
             "#fff5e6",
             "#fff5e6",
             "#fff5e6"
            ],
            [
             "#fff5e6",
             "#fff5e6",
             "#fff5e6",
             "#ffe0b3",
             "#ffe0b3",
             "#ffe0b3",
             "#fff5e6",
             "#fff5e6",
             "#fff5e6"
            ],
            [
             "#fff5e6",
             "#fff5e6",
             "#fff5e6",
             "#ffe0b3",
             "#ffe0b3",
             "#ffe0b3",
             "#fff5e6",
             "#fff5e6",
             "#fff5e6"
            ],
            [
             "#ffe0b3",
             "#ffe0b3",
             "#ffe0b3",
             "#fff5e6",
             "#fff5e6",
             "#fff5e6",
             "#ffe0b3",
             "#ffe0b3",
             "#ffe0b3"
            ],
            [
             "#ffe0b3",
             "#ffe0b3",
             "#ffe0b3",
             "#fff5e6",
             "#fff5e6",
             "#fff5e6",
             "#ffe0b3",
             "#ffe0b3",
             "#ffe0b3"
            ],
            [
             "#ffe0b3",
             "#ffe0b3",
             "#ffe0b3",
             "#fff5e6",
             "#fff5e6",
             "#fff5e6",
             "#ffe0b3",
             "#ffe0b3",
             "#ffe0b3"
            ]
           ]
          },
          "height": 30,
          "line": {
           "color": "#ffffff"
          },
          "values": [
           [
            "A",
            "B",
            "C",
            "D",
            "E",
            "F",
            "G",
            "H",
            "I"
           ],
           [
            "4",
            "6",
            "9",
            "8",
            "7",
            "3",
            "2",
            "5",
            "1"
           ],
           [
            "1",
            "3",
            "5",
            "2",
            "9",
            "4",
            "8",
            "7",
            "6"
           ],
           [
            "7",
            "2",
            "8",
            "5",
            "1",
            "6",
            "9",
            "3",
            "4"
           ],
           [
            "3",
            "1",
            "7",
            "4",
            "5",
            "9",
            "6",
            "2",
            "8"
           ],
           [
            "6",
            "5",
            "2",
            "3",
            "8",
            "1",
            "4",
            "9",
            "7"
           ],
           [
            "9",
            "8",
            "4",
            "7",
            "6",
            "2",
            "3",
            "1",
            "5"
           ],
           [
            "8",
            "9",
            "3",
            "1",
            "4",
            "7",
            "5",
            "6",
            "2"
           ],
           [
            "2",
            "4",
            "1",
            "6",
            "3",
            "5",
            "7",
            "8",
            "9"
           ],
           [
            "5",
            "7",
            "6",
            "9",
            "2",
            "8",
            "1",
            "4",
            "3"
           ]
          ]
         },
         "columnwidth": 30,
         "header": {
          "align": [
           "center",
           "center",
           "center",
           "center",
           "center",
           "center",
           "center",
           "center",
           "center",
           "center"
          ],
          "fill": {
           "color": "#ffffff"
          },
          "height": 30,
          "line": {
           "color": "#ffffff"
          },
          "values": [
           "",
           "1",
           "2",
           "3",
           "4",
           "5",
           "6",
           "7",
           "8",
           "9"
          ]
         },
         "type": "table"
        }
       ],
       "layout": {
        "autosize": true,
        "height": 500,
        "margin": {
         "b": 50,
         "l": 50,
         "pad": 4,
         "r": 50,
         "t": 50
        },
        "width": 480
       }
      },
      "text/html": [
       "<div id=\"9e0c79b6-a9a6-404f-ac7b-42303fe08393\" style=\"height: 500px; width: 480px;\" class=\"plotly-graph-div\"></div><script type=\"text/javascript\">require([\"plotly\"], function(Plotly) { window.PLOTLYENV=window.PLOTLYENV || {};window.PLOTLYENV.BASE_URL=\"https://plot.ly\";Plotly.newPlot(\"9e0c79b6-a9a6-404f-ac7b-42303fe08393\", [{\"columnwidth\": 30, \"cells\": {\"line\": {\"color\": \"#ffffff\"}, \"height\": 30, \"fill\": {\"color\": [[\"#ffffff\", \"#ffffff\", \"#ffffff\", \"#ffffff\", \"#ffffff\", \"#ffffff\", \"#ffffff\", \"#ffffff\", \"#ffffff\"], [\"#ffe0b3\", \"#ffe0b3\", \"#ffe0b3\", \"#fff5e6\", \"#fff5e6\", \"#fff5e6\", \"#ffe0b3\", \"#ffe0b3\", \"#ffe0b3\"], [\"#ffe0b3\", \"#ffe0b3\", \"#ffe0b3\", \"#fff5e6\", \"#fff5e6\", \"#fff5e6\", \"#ffe0b3\", \"#ffe0b3\", \"#ffe0b3\"], [\"#ffe0b3\", \"#ffe0b3\", \"#ffe0b3\", \"#fff5e6\", \"#fff5e6\", \"#fff5e6\", \"#ffe0b3\", \"#ffe0b3\", \"#ffe0b3\"], [\"#fff5e6\", \"#fff5e6\", \"#fff5e6\", \"#ffe0b3\", \"#ffe0b3\", \"#ffe0b3\", \"#fff5e6\", \"#fff5e6\", \"#fff5e6\"], [\"#fff5e6\", \"#fff5e6\", \"#fff5e6\", \"#ffe0b3\", \"#ffe0b3\", \"#ffe0b3\", \"#fff5e6\", \"#fff5e6\", \"#fff5e6\"], [\"#fff5e6\", \"#fff5e6\", \"#fff5e6\", \"#ffe0b3\", \"#ffe0b3\", \"#ffe0b3\", \"#fff5e6\", \"#fff5e6\", \"#fff5e6\"], [\"#ffe0b3\", \"#ffe0b3\", \"#ffe0b3\", \"#fff5e6\", \"#fff5e6\", \"#fff5e6\", \"#ffe0b3\", \"#ffe0b3\", \"#ffe0b3\"], [\"#ffe0b3\", \"#ffe0b3\", \"#ffe0b3\", \"#fff5e6\", \"#fff5e6\", \"#fff5e6\", \"#ffe0b3\", \"#ffe0b3\", \"#ffe0b3\"], [\"#ffe0b3\", \"#ffe0b3\", \"#ffe0b3\", \"#fff5e6\", \"#fff5e6\", \"#fff5e6\", \"#ffe0b3\", \"#ffe0b3\", \"#ffe0b3\"]]}, \"values\": [[\"A\", \"B\", \"C\", \"D\", \"E\", \"F\", \"G\", \"H\", \"I\"], [\"4\", \"6\", \"9\", \"8\", \"7\", \"3\", \"2\", \"5\", \"1\"], [\"1\", \"3\", \"5\", \"2\", \"9\", \"4\", \"8\", \"7\", \"6\"], [\"7\", \"2\", \"8\", \"5\", \"1\", \"6\", \"9\", \"3\", \"4\"], [\"3\", \"1\", \"7\", \"4\", \"5\", \"9\", \"6\", \"2\", \"8\"], [\"6\", \"5\", \"2\", \"3\", \"8\", \"1\", \"4\", \"9\", \"7\"], [\"9\", \"8\", \"4\", \"7\", \"6\", \"2\", \"3\", \"1\", \"5\"], [\"8\", \"9\", \"3\", \"1\", \"4\", \"7\", \"5\", \"6\", \"2\"], [\"2\", \"4\", \"1\", \"6\", \"3\", \"5\", \"7\", \"8\", \"9\"], [\"5\", \"7\", \"6\", \"9\", \"2\", \"8\", \"1\", \"4\", \"3\"]], \"align\": [\"center\", \"center\", \"center\", \"center\", \"center\", \"center\", \"center\", \"center\", \"center\", \"center\"]}, \"type\": \"table\", \"header\": {\"line\": {\"color\": \"#ffffff\"}, \"height\": 30, \"fill\": {\"color\": \"#ffffff\"}, \"values\": [\"\", \"1\", \"2\", \"3\", \"4\", \"5\", \"6\", \"7\", \"8\", \"9\"], \"align\": [\"center\", \"center\", \"center\", \"center\", \"center\", \"center\", \"center\", \"center\", \"center\", \"center\"]}}], {\"height\": 500, \"margin\": {\"pad\": 4, \"t\": 50, \"l\": 50, \"r\": 50, \"b\": 50}, \"width\": 480, \"autosize\": true}, {\"showLink\": true, \"linkText\": \"Export to plot.ly\"})});</script>"
      ],
      "text/vnd.plotly.v1+html": [
       "<div id=\"9e0c79b6-a9a6-404f-ac7b-42303fe08393\" style=\"height: 500px; width: 480px;\" class=\"plotly-graph-div\"></div><script type=\"text/javascript\">require([\"plotly\"], function(Plotly) { window.PLOTLYENV=window.PLOTLYENV || {};window.PLOTLYENV.BASE_URL=\"https://plot.ly\";Plotly.newPlot(\"9e0c79b6-a9a6-404f-ac7b-42303fe08393\", [{\"columnwidth\": 30, \"cells\": {\"line\": {\"color\": \"#ffffff\"}, \"height\": 30, \"fill\": {\"color\": [[\"#ffffff\", \"#ffffff\", \"#ffffff\", \"#ffffff\", \"#ffffff\", \"#ffffff\", \"#ffffff\", \"#ffffff\", \"#ffffff\"], [\"#ffe0b3\", \"#ffe0b3\", \"#ffe0b3\", \"#fff5e6\", \"#fff5e6\", \"#fff5e6\", \"#ffe0b3\", \"#ffe0b3\", \"#ffe0b3\"], [\"#ffe0b3\", \"#ffe0b3\", \"#ffe0b3\", \"#fff5e6\", \"#fff5e6\", \"#fff5e6\", \"#ffe0b3\", \"#ffe0b3\", \"#ffe0b3\"], [\"#ffe0b3\", \"#ffe0b3\", \"#ffe0b3\", \"#fff5e6\", \"#fff5e6\", \"#fff5e6\", \"#ffe0b3\", \"#ffe0b3\", \"#ffe0b3\"], [\"#fff5e6\", \"#fff5e6\", \"#fff5e6\", \"#ffe0b3\", \"#ffe0b3\", \"#ffe0b3\", \"#fff5e6\", \"#fff5e6\", \"#fff5e6\"], [\"#fff5e6\", \"#fff5e6\", \"#fff5e6\", \"#ffe0b3\", \"#ffe0b3\", \"#ffe0b3\", \"#fff5e6\", \"#fff5e6\", \"#fff5e6\"], [\"#fff5e6\", \"#fff5e6\", \"#fff5e6\", \"#ffe0b3\", \"#ffe0b3\", \"#ffe0b3\", \"#fff5e6\", \"#fff5e6\", \"#fff5e6\"], [\"#ffe0b3\", \"#ffe0b3\", \"#ffe0b3\", \"#fff5e6\", \"#fff5e6\", \"#fff5e6\", \"#ffe0b3\", \"#ffe0b3\", \"#ffe0b3\"], [\"#ffe0b3\", \"#ffe0b3\", \"#ffe0b3\", \"#fff5e6\", \"#fff5e6\", \"#fff5e6\", \"#ffe0b3\", \"#ffe0b3\", \"#ffe0b3\"], [\"#ffe0b3\", \"#ffe0b3\", \"#ffe0b3\", \"#fff5e6\", \"#fff5e6\", \"#fff5e6\", \"#ffe0b3\", \"#ffe0b3\", \"#ffe0b3\"]]}, \"values\": [[\"A\", \"B\", \"C\", \"D\", \"E\", \"F\", \"G\", \"H\", \"I\"], [\"4\", \"6\", \"9\", \"8\", \"7\", \"3\", \"2\", \"5\", \"1\"], [\"1\", \"3\", \"5\", \"2\", \"9\", \"4\", \"8\", \"7\", \"6\"], [\"7\", \"2\", \"8\", \"5\", \"1\", \"6\", \"9\", \"3\", \"4\"], [\"3\", \"1\", \"7\", \"4\", \"5\", \"9\", \"6\", \"2\", \"8\"], [\"6\", \"5\", \"2\", \"3\", \"8\", \"1\", \"4\", \"9\", \"7\"], [\"9\", \"8\", \"4\", \"7\", \"6\", \"2\", \"3\", \"1\", \"5\"], [\"8\", \"9\", \"3\", \"1\", \"4\", \"7\", \"5\", \"6\", \"2\"], [\"2\", \"4\", \"1\", \"6\", \"3\", \"5\", \"7\", \"8\", \"9\"], [\"5\", \"7\", \"6\", \"9\", \"2\", \"8\", \"1\", \"4\", \"3\"]], \"align\": [\"center\", \"center\", \"center\", \"center\", \"center\", \"center\", \"center\", \"center\", \"center\", \"center\"]}, \"type\": \"table\", \"header\": {\"line\": {\"color\": \"#ffffff\"}, \"height\": 30, \"fill\": {\"color\": \"#ffffff\"}, \"values\": [\"\", \"1\", \"2\", \"3\", \"4\", \"5\", \"6\", \"7\", \"8\", \"9\"], \"align\": [\"center\", \"center\", \"center\", \"center\", \"center\", \"center\", \"center\", \"center\", \"center\", \"center\"]}}], {\"height\": 500, \"margin\": {\"pad\": 4, \"t\": 50, \"l\": 50, \"r\": 50, \"b\": 50}, \"width\": 480, \"autosize\": true}, {\"showLink\": true, \"linkText\": \"Export to plot.ly\"})});</script>"
      ]
     },
     "metadata": {},
     "output_type": "display_data"
    }
   ],
   "source": [
    "solve(puzzle)"
   ]
  },
  {
   "cell_type": "code",
   "execution_count": null,
   "metadata": {
    "collapsed": true
   },
   "outputs": [],
   "source": []
  },
  {
   "cell_type": "code",
   "execution_count": null,
   "metadata": {
    "collapsed": true
   },
   "outputs": [],
   "source": []
  },
  {
   "cell_type": "code",
   "execution_count": null,
   "metadata": {
    "collapsed": true
   },
   "outputs": [],
   "source": []
  }
 ],
 "metadata": {
  "celltoolbar": "Raw Cell Format",
  "kernelspec": {
   "display_name": "Python 3",
   "language": "python",
   "name": "python3"
  },
  "language_info": {
   "codemirror_mode": {
    "name": "ipython",
    "version": 3
   },
   "file_extension": ".py",
   "mimetype": "text/x-python",
   "name": "python",
   "nbconvert_exporter": "python",
   "pygments_lexer": "ipython3",
   "version": "3.5.2"
  }
 },
 "nbformat": 4,
 "nbformat_minor": 2
}
